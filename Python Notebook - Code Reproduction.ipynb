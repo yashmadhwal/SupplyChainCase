{
 "cells": [
  {
   "cell_type": "code",
   "execution_count": 1,
   "metadata": {},
   "outputs": [],
   "source": [
    "#mnemonic: rural knife model observe flight duty three couch category flavor viable convince"
   ]
  },
  {
   "cell_type": "code",
   "execution_count": 2,
   "metadata": {},
   "outputs": [],
   "source": [
    "from web3 import Web3\n",
    "import json"
   ]
  },
  {
   "cell_type": "code",
   "execution_count": 3,
   "metadata": {},
   "outputs": [
    {
     "name": "stdout",
     "output_type": "stream",
     "text": [
      "Ganache Connection:  True\n"
     ]
    }
   ],
   "source": [
    "#Connect to Ganache\n",
    "ganache_url = \"HTTP://127.0.0.1:7545\"\n",
    "web3 = Web3(Web3.HTTPProvider(ganache_url))\n",
    "print(\"Ganache Connection: \", web3.isConnected())"
   ]
  },
  {
   "cell_type": "code",
   "execution_count": 4,
   "metadata": {},
   "outputs": [],
   "source": [
    "#Open Remix and Deploy contracts from account 0x000eCE83724975dDcb9Bb7aCaa992d07948A9bF5\n",
    "#which will be our and Name: \"Respirator Manufacturer\" and store the Abi and deployed address\n",
    "\n",
    "Respirator_Manufacturer = '0x000eCE83724975dDcb9Bb7aCaa992d07948A9bF5'\n",
    "contract_address_Respirator_Manufacturer = '0xA248cba35eD513a3493b67c81876bC04Fd2BCb33'\n",
    "abi_Respirator_Manufacturer = '''[{ \"inputs\": [ { \"internalType\": \"string\", \"name\": \"name\", \"type\": \"string\" } ], \"payable\": false, \"stateMutability\": \"nonpayable\", \"type\": \"constructor\" }, { \"anonymous\": false, \"inputs\": [ { \"indexed\": true, \"internalType\": \"address\", \"name\": \"_owner\", \"type\": \"address\" }, { \"indexed\": true, \"internalType\": \"address\", \"name\": \"_operator\", \"type\": \"address\" }, { \"indexed\": false, \"internalType\": \"bool\", \"name\": \"_approved\", \"type\": \"bool\" } ], \"name\": \"ApprovalForAll\", \"type\": \"event\" }, { \"anonymous\": false, \"inputs\": [ { \"indexed\": true, \"internalType\": \"address\", \"name\": \"_operator\", \"type\": \"address\" }, { \"indexed\": true, \"internalType\": \"address\", \"name\": \"_from\", \"type\": \"address\" }, { \"indexed\": true, \"internalType\": \"address\", \"name\": \"_to\", \"type\": \"address\" }, { \"indexed\": false, \"internalType\": \"uint256[]\", \"name\": \"_ids\", \"type\": \"uint256[]\" }, { \"indexed\": false, \"internalType\": \"uint256[]\", \"name\": \"_values\", \"type\": \"uint256[]\" } ], \"name\": \"TransferBatch\", \"type\": \"event\" }, { \"anonymous\": false, \"inputs\": [ { \"indexed\": true, \"internalType\": \"address\", \"name\": \"_operator\", \"type\": \"address\" }, { \"indexed\": true, \"internalType\": \"address\", \"name\": \"_from\", \"type\": \"address\" }, { \"indexed\": true, \"internalType\": \"address\", \"name\": \"_to\", \"type\": \"address\" }, { \"indexed\": false, \"internalType\": \"uint256\", \"name\": \"_id\", \"type\": \"uint256\" }, { \"indexed\": false, \"internalType\": \"uint256\", \"name\": \"_value\", \"type\": \"uint256\" } ], \"name\": \"TransferSingle\", \"type\": \"event\" }, { \"anonymous\": false, \"inputs\": [ { \"indexed\": false, \"internalType\": \"string\", \"name\": \"_value\", \"type\": \"string\" }, { \"indexed\": true, \"internalType\": \"uint256\", \"name\": \"_id\", \"type\": \"uint256\" } ], \"name\": \"URI\", \"type\": \"event\" }, { \"anonymous\": false, \"inputs\": [ { \"indexed\": true, \"internalType\": \"address\", \"name\": \"_tokenSetAddress\", \"type\": \"address\" }, { \"indexed\": false, \"internalType\": \"uint256[]\", \"name\": \"_tokenSet\", \"type\": \"uint256[]\" } ], \"name\": \"tokenSet\", \"type\": \"event\" }, { \"constant\": true, \"inputs\": [ { \"internalType\": \"address\", \"name\": \"_owner\", \"type\": \"address\" }, { \"internalType\": \"uint256\", \"name\": \"_id\", \"type\": \"uint256\" } ], \"name\": \"balanceOf\", \"outputs\": [ { \"internalType\": \"uint256\", \"name\": \"\", \"type\": \"uint256\" } ], \"payable\": false, \"stateMutability\": \"view\", \"type\": \"function\" }, { \"constant\": true, \"inputs\": [ { \"internalType\": \"address[]\", \"name\": \"_owners\", \"type\": \"address[]\" }, { \"internalType\": \"uint256[]\", \"name\": \"_ids\", \"type\": \"uint256[]\" } ], \"name\": \"balanceOfBatch\", \"outputs\": [ { \"internalType\": \"uint256[]\", \"name\": \"\", \"type\": \"uint256[]\" } ], \"payable\": false, \"stateMutability\": \"view\", \"type\": \"function\" }, { \"constant\": false, \"inputs\": [ { \"internalType\": \"uint256\", \"name\": \"_initialSupply\", \"type\": \"uint256\" }, { \"internalType\": \"string\", \"name\": \"_uri\", \"type\": \"string\" } ], \"name\": \"create\", \"outputs\": [ { \"internalType\": \"uint256\", \"name\": \"_id\", \"type\": \"uint256\" } ], \"payable\": false, \"stateMutability\": \"nonpayable\", \"type\": \"function\" }, { \"constant\": true, \"inputs\": [ { \"internalType\": \"uint256\", \"name\": \"\", \"type\": \"uint256\" } ], \"name\": \"creators\", \"outputs\": [ { \"internalType\": \"address\", \"name\": \"\", \"type\": \"address\" } ], \"payable\": false, \"stateMutability\": \"view\", \"type\": \"function\" }, { \"constant\": true, \"inputs\": [ { \"internalType\": \"address\", \"name\": \"_account\", \"type\": \"address\" } ], \"name\": \"getTokenSet\", \"outputs\": [ { \"internalType\": \"uint256[]\", \"name\": \"\", \"type\": \"uint256[]\" } ], \"payable\": false, \"stateMutability\": \"view\", \"type\": \"function\" }, { \"constant\": true, \"inputs\": [ { \"internalType\": \"address\", \"name\": \"_owner\", \"type\": \"address\" }, { \"internalType\": \"address\", \"name\": \"_operator\", \"type\": \"address\" } ], \"name\": \"isApprovedForAll\", \"outputs\": [ { \"internalType\": \"bool\", \"name\": \"\", \"type\": \"bool\" } ], \"payable\": false, \"stateMutability\": \"view\", \"type\": \"function\" }, { \"constant\": false, \"inputs\": [ { \"internalType\": \"uint256\", \"name\": \"_id\", \"type\": \"uint256\" }, { \"internalType\": \"address[]\", \"name\": \"_to\", \"type\": \"address[]\" }, { \"internalType\": \"uint256[]\", \"name\": \"_quantities\", \"type\": \"uint256[]\" } ], \"name\": \"mint\", \"outputs\": [], \"payable\": false, \"stateMutability\": \"nonpayable\", \"type\": \"function\" }, { \"constant\": true, \"inputs\": [], \"name\": \"nonce\", \"outputs\": [ { \"internalType\": \"uint256\", \"name\": \"\", \"type\": \"uint256\" } ], \"payable\": false, \"stateMutability\": \"view\", \"type\": \"function\" }, { \"constant\": false, \"inputs\": [ { \"internalType\": \"uint256[]\", \"name\": \"_ids\", \"type\": \"uint256[]\" } ], \"name\": \"registerTokenSet\", \"outputs\": [], \"payable\": false, \"stateMutability\": \"nonpayable\", \"type\": \"function\" }, { \"constant\": false, \"inputs\": [ { \"internalType\": \"address\", \"name\": \"_from\", \"type\": \"address\" }, { \"internalType\": \"address\", \"name\": \"_to\", \"type\": \"address\" }, { \"internalType\": \"uint256[]\", \"name\": \"_ids\", \"type\": \"uint256[]\" }, { \"internalType\": \"uint256[]\", \"name\": \"_values\", \"type\": \"uint256[]\" }, { \"internalType\": \"bytes\", \"name\": \"_data\", \"type\": \"bytes\" } ], \"name\": \"safeBatchTransferFrom\", \"outputs\": [], \"payable\": false, \"stateMutability\": \"nonpayable\", \"type\": \"function\" }, { \"constant\": false, \"inputs\": [ { \"internalType\": \"address\", \"name\": \"_from\", \"type\": \"address\" }, { \"internalType\": \"address\", \"name\": \"_to\", \"type\": \"address\" }, { \"internalType\": \"uint256\", \"name\": \"_id\", \"type\": \"uint256\" }, { \"internalType\": \"uint256\", \"name\": \"_value\", \"type\": \"uint256\" }, { \"internalType\": \"bytes\", \"name\": \"_data\", \"type\": \"bytes\" } ], \"name\": \"safeTransferFrom\", \"outputs\": [], \"payable\": false, \"stateMutability\": \"nonpayable\", \"type\": \"function\" }, { \"constant\": false, \"inputs\": [ { \"internalType\": \"address\", \"name\": \"_operator\", \"type\": \"address\" }, { \"internalType\": \"bool\", \"name\": \"_approved\", \"type\": \"bool\" } ], \"name\": \"setApprovalForAll\", \"outputs\": [], \"payable\": false, \"stateMutability\": \"nonpayable\", \"type\": \"function\" }, { \"constant\": false, \"inputs\": [ { \"internalType\": \"string\", \"name\": \"_uri\", \"type\": \"string\" }, { \"internalType\": \"uint256\", \"name\": \"_id\", \"type\": \"uint256\" } ], \"name\": \"setURI\", \"outputs\": [], \"payable\": false, \"stateMutability\": \"nonpayable\", \"type\": \"function\" }, { \"constant\": true, \"inputs\": [ { \"internalType\": \"bytes4\", \"name\": \"_interfaceId\", \"type\": \"bytes4\" } ], \"name\": \"supportsInterface\", \"outputs\": [ { \"internalType\": \"bool\", \"name\": \"\", \"type\": \"bool\" } ], \"payable\": false, \"stateMutability\": \"view\", \"type\": \"function\" }, { \"constant\": true, \"inputs\": [ { \"internalType\": \"uint256\", \"name\": \"_id\", \"type\": \"uint256\" } ], \"name\": \"tokenAddress\", \"outputs\": [ { \"internalType\": \"address\", \"name\": \"\", \"type\": \"address\" } ], \"payable\": false, \"stateMutability\": \"view\", \"type\": \"function\" }, { \"constant\": true, \"inputs\": [ { \"internalType\": \"uint256[]\", \"name\": \"_ids\", \"type\": \"uint256[]\" } ], \"name\": \"tokenSetAddress\", \"outputs\": [ { \"internalType\": \"address\", \"name\": \"\", \"type\": \"address\" } ], \"payable\": false, \"stateMutability\": \"view\", \"type\": \"function\" }, { \"constant\": true, \"inputs\": [], \"name\": \"name\", \"outputs\": [ { \"internalType\": \"string\", \"name\": \"\", \"type\": \"string\" } ], \"payable\": false, \"stateMutability\": \"view\", \"type\": \"function\" } ]'''\n"
   ]
  },
  {
   "cell_type": "code",
   "execution_count": 5,
   "metadata": {},
   "outputs": [],
   "source": [
    "Company_Respirator_Manufacturer = web3.eth.contract(address = contract_address_Respirator_Manufacturer, abi = json.loads(abi_Respirator_Manufacturer))\n"
   ]
  },
  {
   "cell_type": "code",
   "execution_count": 6,
   "metadata": {},
   "outputs": [
    {
     "name": "stdout",
     "output_type": "stream",
     "text": [
      "Transaction Hash: 0x7c5c9f4f8700722f60746b0cf12414d9cac4fefb4cc9195a0edf6c2e3e1a9d86\n"
     ]
    }
   ],
   "source": [
    "#Creating Token of \"plactic Pellets\" at Respirator Manufacture at index 1\n",
    "_ = Company_Respirator_Manufacturer.functions.create(1,\"Plastic pellets\").transact({'from': Respirator_Manufacturer})\n",
    "print(\"Transaction Hash:\", _.hex())"
   ]
  },
  {
   "cell_type": "code",
   "execution_count": 7,
   "metadata": {},
   "outputs": [
    {
     "name": "stdout",
     "output_type": "stream",
     "text": [
      "Transaction Hash: 0x68ef8d1f41ce1e1d112ac6043c05e0891a2c730e2a5298e3f205ada4b2345c48\n"
     ]
    }
   ],
   "source": [
    "#Creating Token of \"Body of the Respirator\" at Respirator Manufacture at index 2\n",
    "_ = Company_Respirator_Manufacturer.functions.create(1,\"Body of the Respirator\").transact({'from': Respirator_Manufacturer})\n",
    "print(\"Transaction Hash:\", _.hex())"
   ]
  },
  {
   "cell_type": "code",
   "execution_count": 8,
   "metadata": {},
   "outputs": [
    {
     "name": "stdout",
     "output_type": "stream",
     "text": [
      "\"Body of the Respirator\" tokenAddress: 0xA248cbA35eD513A3493B67c81876Bc04Fd2BcB35\n"
     ]
    }
   ],
   "source": [
    "#Getting \"Body of the Respirator\" Address at index 2\n",
    "Body_of_the_Respirator_token_Address = Company_Respirator_Manufacturer.functions.tokenAddress(2).call()\n",
    "print('\"Body of the Respirator\" tokenAddress:', Body_of_the_Respirator_token_Address)"
   ]
  },
  {
   "cell_type": "code",
   "execution_count": 9,
   "metadata": {},
   "outputs": [
    {
     "name": "stdout",
     "output_type": "stream",
     "text": [
      "Transaction Hash: 0x1bbb67b813faa1a368b0545930a4fbbb53c92a4a88a1179f9b5ae42934843b75\n"
     ]
    }
   ],
   "source": [
    "#Making Transaction from \"plastic Pellets\" at Respirator Manufacturer to \"Body of respirator\" at Respirator Manufacturer\n",
    "_ = Company_Respirator_Manufacturer.functions.safeTransferFrom(Respirator_Manufacturer,Body_of_the_Respirator_token_Address,1,1,b'0x0').transact({'from': Respirator_Manufacturer})\n",
    "print(\"Transaction Hash:\",_.hex())"
   ]
  },
  {
   "cell_type": "code",
   "execution_count": 10,
   "metadata": {},
   "outputs": [
    {
     "name": "stdout",
     "output_type": "stream",
     "text": [
      "Transaction Hash: 0xc9b6e67ab91423b14be481800dd860c4e131c765ebede261f9a94cd3e8de6970\n"
     ]
    }
   ],
   "source": [
    "#Creating Token of \"Gas mask respirator\" at Respirator Manufacture at index 3\n",
    "_ = Company_Respirator_Manufacturer.functions.create(1,\"Gas mask respirator\").transact({'from': Respirator_Manufacturer})\n",
    "print(\"Transaction Hash:\", _.hex())"
   ]
  },
  {
   "cell_type": "code",
   "execution_count": 11,
   "metadata": {},
   "outputs": [
    {
     "name": "stdout",
     "output_type": "stream",
     "text": [
      "\"Gas mask respirator\" tokenAddress: 0xA248CBA35Ed513A3493B67C81876bc04fD2bcB36\n"
     ]
    }
   ],
   "source": [
    "#Getting \"Gas mask respirator\" Address at index 3\n",
    "Gas_mask_respirator_token_Address = Company_Respirator_Manufacturer.functions.tokenAddress(3).call()\n",
    "print('\"Gas mask respirator\" tokenAddress:', Gas_mask_respirator_token_Address)"
   ]
  },
  {
   "cell_type": "code",
   "execution_count": 12,
   "metadata": {},
   "outputs": [
    {
     "name": "stdout",
     "output_type": "stream",
     "text": [
      "Transaction Hash: 0xd0d018d21470aa3a9e19c2a357c6e0b5b42414f8f5fc08fcc2b41d045f8ff844\n"
     ]
    }
   ],
   "source": [
    "#Making Transaction from \"Body of respirator\" at Respirator Manufacturer to \"Gas mask respirator\" at Respirator Manufacturer\n",
    "_ = Company_Respirator_Manufacturer.functions.safeTransferFrom(Respirator_Manufacturer,Gas_mask_respirator_token_Address,2,1,b'0x0').transact({'from': Respirator_Manufacturer})\n",
    "print(\"Transaction Hash:\",_.hex())"
   ]
  },
  {
   "cell_type": "code",
   "execution_count": null,
   "metadata": {},
   "outputs": [],
   "source": []
  },
  {
   "cell_type": "code",
   "execution_count": 13,
   "metadata": {},
   "outputs": [],
   "source": [
    "#Open Remix and Deploy contracts from account 0x5fF358377fA2eB2aea812a205AA27a12ed17c4b1\n",
    "#which will be our and Name: \"Filter Manufacturer\" and store the Abi and deployed address\n",
    "\n",
    "Filter_Manufacturer = '0x5fF358377fA2eB2aea812a205AA27a12ed17c4b1'\n",
    "contract_address_Filter_Manufacturer = '0x9A900C3ae5Fc8193ed1c0C245a3986750E9944DC'\n",
    "abi_Filter_Manufacturer = '''[{ \"inputs\": [ { \"internalType\": \"string\", \"name\": \"name\", \"type\": \"string\" } ], \"payable\": false, \"stateMutability\": \"nonpayable\", \"type\": \"constructor\" }, { \"anonymous\": false, \"inputs\": [ { \"indexed\": true, \"internalType\": \"address\", \"name\": \"_owner\", \"type\": \"address\" }, { \"indexed\": true, \"internalType\": \"address\", \"name\": \"_operator\", \"type\": \"address\" }, { \"indexed\": false, \"internalType\": \"bool\", \"name\": \"_approved\", \"type\": \"bool\" } ], \"name\": \"ApprovalForAll\", \"type\": \"event\" }, { \"anonymous\": false, \"inputs\": [ { \"indexed\": true, \"internalType\": \"address\", \"name\": \"_operator\", \"type\": \"address\" }, { \"indexed\": true, \"internalType\": \"address\", \"name\": \"_from\", \"type\": \"address\" }, { \"indexed\": true, \"internalType\": \"address\", \"name\": \"_to\", \"type\": \"address\" }, { \"indexed\": false, \"internalType\": \"uint256[]\", \"name\": \"_ids\", \"type\": \"uint256[]\" }, { \"indexed\": false, \"internalType\": \"uint256[]\", \"name\": \"_values\", \"type\": \"uint256[]\" } ], \"name\": \"TransferBatch\", \"type\": \"event\" }, { \"anonymous\": false, \"inputs\": [ { \"indexed\": true, \"internalType\": \"address\", \"name\": \"_operator\", \"type\": \"address\" }, { \"indexed\": true, \"internalType\": \"address\", \"name\": \"_from\", \"type\": \"address\" }, { \"indexed\": true, \"internalType\": \"address\", \"name\": \"_to\", \"type\": \"address\" }, { \"indexed\": false, \"internalType\": \"uint256\", \"name\": \"_id\", \"type\": \"uint256\" }, { \"indexed\": false, \"internalType\": \"uint256\", \"name\": \"_value\", \"type\": \"uint256\" } ], \"name\": \"TransferSingle\", \"type\": \"event\" }, { \"anonymous\": false, \"inputs\": [ { \"indexed\": false, \"internalType\": \"string\", \"name\": \"_value\", \"type\": \"string\" }, { \"indexed\": true, \"internalType\": \"uint256\", \"name\": \"_id\", \"type\": \"uint256\" } ], \"name\": \"URI\", \"type\": \"event\" }, { \"anonymous\": false, \"inputs\": [ { \"indexed\": true, \"internalType\": \"address\", \"name\": \"_tokenSetAddress\", \"type\": \"address\" }, { \"indexed\": false, \"internalType\": \"uint256[]\", \"name\": \"_tokenSet\", \"type\": \"uint256[]\" } ], \"name\": \"tokenSet\", \"type\": \"event\" }, { \"constant\": true, \"inputs\": [ { \"internalType\": \"address\", \"name\": \"_owner\", \"type\": \"address\" }, { \"internalType\": \"uint256\", \"name\": \"_id\", \"type\": \"uint256\" } ], \"name\": \"balanceOf\", \"outputs\": [ { \"internalType\": \"uint256\", \"name\": \"\", \"type\": \"uint256\" } ], \"payable\": false, \"stateMutability\": \"view\", \"type\": \"function\" }, { \"constant\": true, \"inputs\": [ { \"internalType\": \"address[]\", \"name\": \"_owners\", \"type\": \"address[]\" }, { \"internalType\": \"uint256[]\", \"name\": \"_ids\", \"type\": \"uint256[]\" } ], \"name\": \"balanceOfBatch\", \"outputs\": [ { \"internalType\": \"uint256[]\", \"name\": \"\", \"type\": \"uint256[]\" } ], \"payable\": false, \"stateMutability\": \"view\", \"type\": \"function\" }, { \"constant\": false, \"inputs\": [ { \"internalType\": \"uint256\", \"name\": \"_initialSupply\", \"type\": \"uint256\" }, { \"internalType\": \"string\", \"name\": \"_uri\", \"type\": \"string\" } ], \"name\": \"create\", \"outputs\": [ { \"internalType\": \"uint256\", \"name\": \"_id\", \"type\": \"uint256\" } ], \"payable\": false, \"stateMutability\": \"nonpayable\", \"type\": \"function\" }, { \"constant\": true, \"inputs\": [ { \"internalType\": \"uint256\", \"name\": \"\", \"type\": \"uint256\" } ], \"name\": \"creators\", \"outputs\": [ { \"internalType\": \"address\", \"name\": \"\", \"type\": \"address\" } ], \"payable\": false, \"stateMutability\": \"view\", \"type\": \"function\" }, { \"constant\": true, \"inputs\": [ { \"internalType\": \"address\", \"name\": \"_account\", \"type\": \"address\" } ], \"name\": \"getTokenSet\", \"outputs\": [ { \"internalType\": \"uint256[]\", \"name\": \"\", \"type\": \"uint256[]\" } ], \"payable\": false, \"stateMutability\": \"view\", \"type\": \"function\" }, { \"constant\": true, \"inputs\": [ { \"internalType\": \"address\", \"name\": \"_owner\", \"type\": \"address\" }, { \"internalType\": \"address\", \"name\": \"_operator\", \"type\": \"address\" } ], \"name\": \"isApprovedForAll\", \"outputs\": [ { \"internalType\": \"bool\", \"name\": \"\", \"type\": \"bool\" } ], \"payable\": false, \"stateMutability\": \"view\", \"type\": \"function\" }, { \"constant\": false, \"inputs\": [ { \"internalType\": \"uint256\", \"name\": \"_id\", \"type\": \"uint256\" }, { \"internalType\": \"address[]\", \"name\": \"_to\", \"type\": \"address[]\" }, { \"internalType\": \"uint256[]\", \"name\": \"_quantities\", \"type\": \"uint256[]\" } ], \"name\": \"mint\", \"outputs\": [], \"payable\": false, \"stateMutability\": \"nonpayable\", \"type\": \"function\" }, { \"constant\": true, \"inputs\": [], \"name\": \"nonce\", \"outputs\": [ { \"internalType\": \"uint256\", \"name\": \"\", \"type\": \"uint256\" } ], \"payable\": false, \"stateMutability\": \"view\", \"type\": \"function\" }, { \"constant\": false, \"inputs\": [ { \"internalType\": \"uint256[]\", \"name\": \"_ids\", \"type\": \"uint256[]\" } ], \"name\": \"registerTokenSet\", \"outputs\": [], \"payable\": false, \"stateMutability\": \"nonpayable\", \"type\": \"function\" }, { \"constant\": false, \"inputs\": [ { \"internalType\": \"address\", \"name\": \"_from\", \"type\": \"address\" }, { \"internalType\": \"address\", \"name\": \"_to\", \"type\": \"address\" }, { \"internalType\": \"uint256[]\", \"name\": \"_ids\", \"type\": \"uint256[]\" }, { \"internalType\": \"uint256[]\", \"name\": \"_values\", \"type\": \"uint256[]\" }, { \"internalType\": \"bytes\", \"name\": \"_data\", \"type\": \"bytes\" } ], \"name\": \"safeBatchTransferFrom\", \"outputs\": [], \"payable\": false, \"stateMutability\": \"nonpayable\", \"type\": \"function\" }, { \"constant\": false, \"inputs\": [ { \"internalType\": \"address\", \"name\": \"_from\", \"type\": \"address\" }, { \"internalType\": \"address\", \"name\": \"_to\", \"type\": \"address\" }, { \"internalType\": \"uint256\", \"name\": \"_id\", \"type\": \"uint256\" }, { \"internalType\": \"uint256\", \"name\": \"_value\", \"type\": \"uint256\" }, { \"internalType\": \"bytes\", \"name\": \"_data\", \"type\": \"bytes\" } ], \"name\": \"safeTransferFrom\", \"outputs\": [], \"payable\": false, \"stateMutability\": \"nonpayable\", \"type\": \"function\" }, { \"constant\": false, \"inputs\": [ { \"internalType\": \"address\", \"name\": \"_operator\", \"type\": \"address\" }, { \"internalType\": \"bool\", \"name\": \"_approved\", \"type\": \"bool\" } ], \"name\": \"setApprovalForAll\", \"outputs\": [], \"payable\": false, \"stateMutability\": \"nonpayable\", \"type\": \"function\" }, { \"constant\": false, \"inputs\": [ { \"internalType\": \"string\", \"name\": \"_uri\", \"type\": \"string\" }, { \"internalType\": \"uint256\", \"name\": \"_id\", \"type\": \"uint256\" } ], \"name\": \"setURI\", \"outputs\": [], \"payable\": false, \"stateMutability\": \"nonpayable\", \"type\": \"function\" }, { \"constant\": true, \"inputs\": [ { \"internalType\": \"bytes4\", \"name\": \"_interfaceId\", \"type\": \"bytes4\" } ], \"name\": \"supportsInterface\", \"outputs\": [ { \"internalType\": \"bool\", \"name\": \"\", \"type\": \"bool\" } ], \"payable\": false, \"stateMutability\": \"view\", \"type\": \"function\" }, { \"constant\": true, \"inputs\": [ { \"internalType\": \"uint256\", \"name\": \"_id\", \"type\": \"uint256\" } ], \"name\": \"tokenAddress\", \"outputs\": [ { \"internalType\": \"address\", \"name\": \"\", \"type\": \"address\" } ], \"payable\": false, \"stateMutability\": \"view\", \"type\": \"function\" }, { \"constant\": true, \"inputs\": [ { \"internalType\": \"uint256[]\", \"name\": \"_ids\", \"type\": \"uint256[]\" } ], \"name\": \"tokenSetAddress\", \"outputs\": [ { \"internalType\": \"address\", \"name\": \"\", \"type\": \"address\" } ], \"payable\": false, \"stateMutability\": \"view\", \"type\": \"function\" }, { \"constant\": true, \"inputs\": [], \"name\": \"name\", \"outputs\": [ { \"internalType\": \"string\", \"name\": \"\", \"type\": \"string\" } ], \"payable\": false, \"stateMutability\": \"view\", \"type\": \"function\" } ]'''\n"
   ]
  },
  {
   "cell_type": "code",
   "execution_count": 14,
   "metadata": {},
   "outputs": [],
   "source": [
    "Company_Filter_Manufacturer = web3.eth.contract(address = contract_address_Filter_Manufacturer, abi = json.loads(abi_Filter_Manufacturer))"
   ]
  },
  {
   "cell_type": "code",
   "execution_count": 15,
   "metadata": {},
   "outputs": [
    {
     "name": "stdout",
     "output_type": "stream",
     "text": [
      "Transaction Hash: 0x9d75d38e0c5cf2debaf4be450df072d8bec5d82995cbb791755786d5f1112cb9\n"
     ]
    }
   ],
   "source": [
    "#Creating Token of \"Gas mask material\" at Filter Manufacturer at index 1\n",
    "_ = Company_Filter_Manufacturer.functions.create(1,\"Gas mask material\").transact({'from': Filter_Manufacturer})\n",
    "print(\"Transaction Hash:\", _.hex())"
   ]
  },
  {
   "cell_type": "code",
   "execution_count": 16,
   "metadata": {},
   "outputs": [
    {
     "name": "stdout",
     "output_type": "stream",
     "text": [
      "Transaction Hash: 0x9b4d72bfc3c01f0a57428fd53526b4bde8f3ea45a4dd264bb5120c1b890bf190\n"
     ]
    }
   ],
   "source": [
    "#Creating Token of \"Gas mask filter\" at Filter Manufacturer at index 2\n",
    "_ = Company_Filter_Manufacturer.functions.create(1,\"Gas mask filter\").transact({'from': Filter_Manufacturer})\n",
    "print(\"Transaction Hash:\", _.hex())"
   ]
  },
  {
   "cell_type": "code",
   "execution_count": 17,
   "metadata": {},
   "outputs": [
    {
     "name": "stdout",
     "output_type": "stream",
     "text": [
      "\"Gas mask filter\" tokenAddress: 0x9a900c3Ae5FC8193ED1C0c245A3986750E9944dE\n"
     ]
    }
   ],
   "source": [
    "#Getting \"Gas mask filter\" Address at index 2\n",
    "Gas_mask_filter_tokenAddress_2 = Company_Filter_Manufacturer.functions.tokenAddress(2).call()\n",
    "print('\"Gas mask filter\" tokenAddress:',Gas_mask_filter_tokenAddress_2)"
   ]
  },
  {
   "cell_type": "code",
   "execution_count": 18,
   "metadata": {},
   "outputs": [
    {
     "name": "stdout",
     "output_type": "stream",
     "text": [
      "Transaction Hash: 0x3f0fff40781ab53173c769233d98b3be41051fd2f53c0efc3df6194b1f290dcc\n"
     ]
    }
   ],
   "source": [
    "#Making Transaction from \"Gas mask material\" at filter Manufacturer to \"Gas mask filter\" at filter Manufacturer\n",
    "_ = Company_Filter_Manufacturer.functions.safeTransferFrom(Filter_Manufacturer,Gas_mask_filter_tokenAddress_2,1,1,b'0x0').transact({'from': Filter_Manufacturer})\n",
    "print(\"Transaction Hash:\",_.hex())"
   ]
  },
  {
   "cell_type": "code",
   "execution_count": 19,
   "metadata": {},
   "outputs": [
    {
     "name": "stdout",
     "output_type": "stream",
     "text": [
      "Transaction Hash: 0xe580747e46a8dfcd71bf40a0944f88d9b7e7c87a26758793112fa2631fab7a52\n"
     ]
    }
   ],
   "source": [
    "#Making Transaction from \"Gas mask filter\" at filter Manufacturer to \"Gas mask Respirator\" at Respirator Manufacturer\n",
    "_ = Company_Filter_Manufacturer.functions.safeTransferFrom(Filter_Manufacturer,Gas_mask_respirator_token_Address,2,1,b'0x0').transact({'from': Filter_Manufacturer})\n",
    "print(\"Transaction Hash:\",_.hex())"
   ]
  },
  {
   "cell_type": "code",
   "execution_count": null,
   "metadata": {},
   "outputs": [],
   "source": []
  },
  {
   "cell_type": "code",
   "execution_count": 20,
   "metadata": {},
   "outputs": [],
   "source": [
    "#Open Remix and Deploy contracts from account 0x3445bA3fAbdA991084D5b54f8b52d832D2Cddf5d\n",
    "#which will be our and Name: \"AntiAerosol Manufacturer\" and store the Abi and deployed address\n",
    "\n",
    "AntiAerosol_Manufacturer = '0x3445bA3fAbdA991084D5b54f8b52d832D2Cddf5d'\n",
    "contract_address_Filter_Manufacturer = '0xB60829dE293bB8Ea63bebeb2F266F3FED5e226C8'\n",
    "abi_AntiAerosol_Manufacturer = '''[{ \"inputs\": [ { \"internalType\": \"string\", \"name\": \"name\", \"type\": \"string\" } ], \"payable\": false, \"stateMutability\": \"nonpayable\", \"type\": \"constructor\" }, { \"anonymous\": false, \"inputs\": [ { \"indexed\": true, \"internalType\": \"address\", \"name\": \"_owner\", \"type\": \"address\" }, { \"indexed\": true, \"internalType\": \"address\", \"name\": \"_operator\", \"type\": \"address\" }, { \"indexed\": false, \"internalType\": \"bool\", \"name\": \"_approved\", \"type\": \"bool\" } ], \"name\": \"ApprovalForAll\", \"type\": \"event\" }, { \"anonymous\": false, \"inputs\": [ { \"indexed\": true, \"internalType\": \"address\", \"name\": \"_operator\", \"type\": \"address\" }, { \"indexed\": true, \"internalType\": \"address\", \"name\": \"_from\", \"type\": \"address\" }, { \"indexed\": true, \"internalType\": \"address\", \"name\": \"_to\", \"type\": \"address\" }, { \"indexed\": false, \"internalType\": \"uint256[]\", \"name\": \"_ids\", \"type\": \"uint256[]\" }, { \"indexed\": false, \"internalType\": \"uint256[]\", \"name\": \"_values\", \"type\": \"uint256[]\" } ], \"name\": \"TransferBatch\", \"type\": \"event\" }, { \"anonymous\": false, \"inputs\": [ { \"indexed\": true, \"internalType\": \"address\", \"name\": \"_operator\", \"type\": \"address\" }, { \"indexed\": true, \"internalType\": \"address\", \"name\": \"_from\", \"type\": \"address\" }, { \"indexed\": true, \"internalType\": \"address\", \"name\": \"_to\", \"type\": \"address\" }, { \"indexed\": false, \"internalType\": \"uint256\", \"name\": \"_id\", \"type\": \"uint256\" }, { \"indexed\": false, \"internalType\": \"uint256\", \"name\": \"_value\", \"type\": \"uint256\" } ], \"name\": \"TransferSingle\", \"type\": \"event\" }, { \"anonymous\": false, \"inputs\": [ { \"indexed\": false, \"internalType\": \"string\", \"name\": \"_value\", \"type\": \"string\" }, { \"indexed\": true, \"internalType\": \"uint256\", \"name\": \"_id\", \"type\": \"uint256\" } ], \"name\": \"URI\", \"type\": \"event\" }, { \"anonymous\": false, \"inputs\": [ { \"indexed\": true, \"internalType\": \"address\", \"name\": \"_tokenSetAddress\", \"type\": \"address\" }, { \"indexed\": false, \"internalType\": \"uint256[]\", \"name\": \"_tokenSet\", \"type\": \"uint256[]\" } ], \"name\": \"tokenSet\", \"type\": \"event\" }, { \"constant\": true, \"inputs\": [ { \"internalType\": \"address\", \"name\": \"_owner\", \"type\": \"address\" }, { \"internalType\": \"uint256\", \"name\": \"_id\", \"type\": \"uint256\" } ], \"name\": \"balanceOf\", \"outputs\": [ { \"internalType\": \"uint256\", \"name\": \"\", \"type\": \"uint256\" } ], \"payable\": false, \"stateMutability\": \"view\", \"type\": \"function\" }, { \"constant\": true, \"inputs\": [ { \"internalType\": \"address[]\", \"name\": \"_owners\", \"type\": \"address[]\" }, { \"internalType\": \"uint256[]\", \"name\": \"_ids\", \"type\": \"uint256[]\" } ], \"name\": \"balanceOfBatch\", \"outputs\": [ { \"internalType\": \"uint256[]\", \"name\": \"\", \"type\": \"uint256[]\" } ], \"payable\": false, \"stateMutability\": \"view\", \"type\": \"function\" }, { \"constant\": false, \"inputs\": [ { \"internalType\": \"uint256\", \"name\": \"_initialSupply\", \"type\": \"uint256\" }, { \"internalType\": \"string\", \"name\": \"_uri\", \"type\": \"string\" } ], \"name\": \"create\", \"outputs\": [ { \"internalType\": \"uint256\", \"name\": \"_id\", \"type\": \"uint256\" } ], \"payable\": false, \"stateMutability\": \"nonpayable\", \"type\": \"function\" }, { \"constant\": true, \"inputs\": [ { \"internalType\": \"uint256\", \"name\": \"\", \"type\": \"uint256\" } ], \"name\": \"creators\", \"outputs\": [ { \"internalType\": \"address\", \"name\": \"\", \"type\": \"address\" } ], \"payable\": false, \"stateMutability\": \"view\", \"type\": \"function\" }, { \"constant\": true, \"inputs\": [ { \"internalType\": \"address\", \"name\": \"_account\", \"type\": \"address\" } ], \"name\": \"getTokenSet\", \"outputs\": [ { \"internalType\": \"uint256[]\", \"name\": \"\", \"type\": \"uint256[]\" } ], \"payable\": false, \"stateMutability\": \"view\", \"type\": \"function\" }, { \"constant\": true, \"inputs\": [ { \"internalType\": \"address\", \"name\": \"_owner\", \"type\": \"address\" }, { \"internalType\": \"address\", \"name\": \"_operator\", \"type\": \"address\" } ], \"name\": \"isApprovedForAll\", \"outputs\": [ { \"internalType\": \"bool\", \"name\": \"\", \"type\": \"bool\" } ], \"payable\": false, \"stateMutability\": \"view\", \"type\": \"function\" }, { \"constant\": false, \"inputs\": [ { \"internalType\": \"uint256\", \"name\": \"_id\", \"type\": \"uint256\" }, { \"internalType\": \"address[]\", \"name\": \"_to\", \"type\": \"address[]\" }, { \"internalType\": \"uint256[]\", \"name\": \"_quantities\", \"type\": \"uint256[]\" } ], \"name\": \"mint\", \"outputs\": [], \"payable\": false, \"stateMutability\": \"nonpayable\", \"type\": \"function\" }, { \"constant\": true, \"inputs\": [], \"name\": \"nonce\", \"outputs\": [ { \"internalType\": \"uint256\", \"name\": \"\", \"type\": \"uint256\" } ], \"payable\": false, \"stateMutability\": \"view\", \"type\": \"function\" }, { \"constant\": false, \"inputs\": [ { \"internalType\": \"uint256[]\", \"name\": \"_ids\", \"type\": \"uint256[]\" } ], \"name\": \"registerTokenSet\", \"outputs\": [], \"payable\": false, \"stateMutability\": \"nonpayable\", \"type\": \"function\" }, { \"constant\": false, \"inputs\": [ { \"internalType\": \"address\", \"name\": \"_from\", \"type\": \"address\" }, { \"internalType\": \"address\", \"name\": \"_to\", \"type\": \"address\" }, { \"internalType\": \"uint256[]\", \"name\": \"_ids\", \"type\": \"uint256[]\" }, { \"internalType\": \"uint256[]\", \"name\": \"_values\", \"type\": \"uint256[]\" }, { \"internalType\": \"bytes\", \"name\": \"_data\", \"type\": \"bytes\" } ], \"name\": \"safeBatchTransferFrom\", \"outputs\": [], \"payable\": false, \"stateMutability\": \"nonpayable\", \"type\": \"function\" }, { \"constant\": false, \"inputs\": [ { \"internalType\": \"address\", \"name\": \"_from\", \"type\": \"address\" }, { \"internalType\": \"address\", \"name\": \"_to\", \"type\": \"address\" }, { \"internalType\": \"uint256\", \"name\": \"_id\", \"type\": \"uint256\" }, { \"internalType\": \"uint256\", \"name\": \"_value\", \"type\": \"uint256\" }, { \"internalType\": \"bytes\", \"name\": \"_data\", \"type\": \"bytes\" } ], \"name\": \"safeTransferFrom\", \"outputs\": [], \"payable\": false, \"stateMutability\": \"nonpayable\", \"type\": \"function\" }, { \"constant\": false, \"inputs\": [ { \"internalType\": \"address\", \"name\": \"_operator\", \"type\": \"address\" }, { \"internalType\": \"bool\", \"name\": \"_approved\", \"type\": \"bool\" } ], \"name\": \"setApprovalForAll\", \"outputs\": [], \"payable\": false, \"stateMutability\": \"nonpayable\", \"type\": \"function\" }, { \"constant\": false, \"inputs\": [ { \"internalType\": \"string\", \"name\": \"_uri\", \"type\": \"string\" }, { \"internalType\": \"uint256\", \"name\": \"_id\", \"type\": \"uint256\" } ], \"name\": \"setURI\", \"outputs\": [], \"payable\": false, \"stateMutability\": \"nonpayable\", \"type\": \"function\" }, { \"constant\": true, \"inputs\": [ { \"internalType\": \"bytes4\", \"name\": \"_interfaceId\", \"type\": \"bytes4\" } ], \"name\": \"supportsInterface\", \"outputs\": [ { \"internalType\": \"bool\", \"name\": \"\", \"type\": \"bool\" } ], \"payable\": false, \"stateMutability\": \"view\", \"type\": \"function\" }, { \"constant\": true, \"inputs\": [ { \"internalType\": \"uint256\", \"name\": \"_id\", \"type\": \"uint256\" } ], \"name\": \"tokenAddress\", \"outputs\": [ { \"internalType\": \"address\", \"name\": \"\", \"type\": \"address\" } ], \"payable\": false, \"stateMutability\": \"view\", \"type\": \"function\" }, { \"constant\": true, \"inputs\": [ { \"internalType\": \"uint256[]\", \"name\": \"_ids\", \"type\": \"uint256[]\" } ], \"name\": \"tokenSetAddress\", \"outputs\": [ { \"internalType\": \"address\", \"name\": \"\", \"type\": \"address\" } ], \"payable\": false, \"stateMutability\": \"view\", \"type\": \"function\" }, { \"constant\": true, \"inputs\": [], \"name\": \"name\", \"outputs\": [ { \"internalType\": \"string\", \"name\": \"\", \"type\": \"string\" } ], \"payable\": false, \"stateMutability\": \"view\", \"type\": \"function\" } ]'''\n"
   ]
  },
  {
   "cell_type": "code",
   "execution_count": 21,
   "metadata": {},
   "outputs": [],
   "source": [
    "Company_AntiAerosol_Manufacturer = web3.eth.contract(address = contract_address_Filter_Manufacturer, abi = json.loads(abi_AntiAerosol_Manufacturer))"
   ]
  },
  {
   "cell_type": "code",
   "execution_count": 22,
   "metadata": {},
   "outputs": [
    {
     "name": "stdout",
     "output_type": "stream",
     "text": [
      "Transaction Hash: 0x3ad24615075b46bfac0d7db254d3f6b752a6fc48082f08f7edc28133efb1943f\n"
     ]
    }
   ],
   "source": [
    "#Creating Token of \"Gas mask respirator\" at AntiAerosol Manufacturer at index 1\n",
    "_ = Company_AntiAerosol_Manufacturer.functions.create(1,\"Gas mask respirator\").transact({'from': AntiAerosol_Manufacturer})\n",
    "print(\"Transaction Hash:\", _.hex())"
   ]
  },
  {
   "cell_type": "code",
   "execution_count": 23,
   "metadata": {},
   "outputs": [
    {
     "name": "stdout",
     "output_type": "stream",
     "text": [
      "\"Gas mask respirator\" tokenAddress: 0xB60829dE293BB8EA63bEBEb2F266f3FEd5e226c9\n"
     ]
    }
   ],
   "source": [
    "#Getting \"Gas mask respirator\" Address at index 1\n",
    "Gas_mask_respirator_tokenAddress_1 = Company_AntiAerosol_Manufacturer.functions.tokenAddress(1).call()\n",
    "print('\"Gas mask respirator\" tokenAddress:',Gas_mask_respirator_tokenAddress_1)"
   ]
  },
  {
   "cell_type": "code",
   "execution_count": 24,
   "metadata": {},
   "outputs": [
    {
     "name": "stdout",
     "output_type": "stream",
     "text": [
      "Transaction Hash: 0xe07cb5692bdcc0b1024f53c7b0f6d7372cac49632c3447f4d8d21459527cfaad\n"
     ]
    }
   ],
   "source": [
    "#Making Transaction from \"Gas mask respirator\" at Respirator Manufacturer to \"Gas mask respirator\" at AntiAerosol Manufacturer\n",
    "_ = Company_Respirator_Manufacturer.functions.safeTransferFrom(Respirator_Manufacturer,Gas_mask_respirator_tokenAddress_1,3,1,b'0x0').transact({'from': Respirator_Manufacturer})\n",
    "print(\"Transaction Hash:\",_.hex())"
   ]
  },
  {
   "cell_type": "code",
   "execution_count": null,
   "metadata": {},
   "outputs": [],
   "source": []
  },
  {
   "cell_type": "code",
   "execution_count": null,
   "metadata": {},
   "outputs": [],
   "source": []
  },
  {
   "cell_type": "code",
   "execution_count": null,
   "metadata": {},
   "outputs": [],
   "source": []
  },
  {
   "cell_type": "code",
   "execution_count": 25,
   "metadata": {},
   "outputs": [
    {
     "name": "stdout",
     "output_type": "stream",
     "text": [
      "Transaction Hash: 0x65ef062b03526cd8d69f073b371367ac13e89d6b359b87a0a3eed15150223e0d\n"
     ]
    }
   ],
   "source": [
    "#Creating Token of \"Gas mask filter\" at AntiAerosol Manufacturer at index 2\n",
    "_ = Company_AntiAerosol_Manufacturer.functions.create(1,\"Gas mask filter\").transact({'from': AntiAerosol_Manufacturer})\n",
    "print(\"Transaction Hash:\", _.hex())"
   ]
  },
  {
   "cell_type": "code",
   "execution_count": 26,
   "metadata": {},
   "outputs": [
    {
     "name": "stdout",
     "output_type": "stream",
     "text": [
      "Transaction Hash: 0x15876f3f2ba069e6c774e466e4465c70728b589e05bd5982b179f12413ec6bc0\n"
     ]
    }
   ],
   "source": [
    "#Creating Token of \"Body of the respirator\" at AntiAerosol Manufacturer at index 3\n",
    "_ = Company_AntiAerosol_Manufacturer.functions.create(1,\"Body of the respirator\").transact({'from': AntiAerosol_Manufacturer})\n",
    "print(\"Transaction Hash:\", _.hex())"
   ]
  },
  {
   "cell_type": "code",
   "execution_count": 27,
   "metadata": {},
   "outputs": [
    {
     "name": "stdout",
     "output_type": "stream",
     "text": [
      "registerTokenSet Address generation Transaction: 0xe76a1505ffc10848e9ece7d0c8c8597d70df8ab54ed5af6721eb229daef4b001\n"
     ]
    }
   ],
   "source": [
    "#Generating \"Token Set Address\" to Making Transaction from \"Gas mask respirator\" at index 1 at AntiAerosol Manufacturer splitting it into \"Gas mask filter\" at index 2 and \"Body of the respirator\" at index 3 at AntiAerosol Manufacturer \n",
    "_ = Company_AntiAerosol_Manufacturer.functions.registerTokenSet([2,3]).transact({'from': AntiAerosol_Manufacturer})\n",
    "print(\"registerTokenSet Address generation Transaction:\", _.hex())"
   ]
  },
  {
   "cell_type": "code",
   "execution_count": 28,
   "metadata": {},
   "outputs": [
    {
     "name": "stdout",
     "output_type": "stream",
     "text": [
      "\"registerTokenSet\" tokenAddress: 0xc13b0e7777aC626C75D6dc6c3fAEF08d427C5eB3\n"
     ]
    }
   ],
   "source": [
    "#Getting \"Token Set Address\" Address generated\n",
    "registerTokenSet_tokenAddress = Company_AntiAerosol_Manufacturer.functions.tokenSetAddress([2,3]).call()\n",
    "print('\"registerTokenSet\" tokenAddress:',registerTokenSet_tokenAddress)"
   ]
  },
  {
   "cell_type": "code",
   "execution_count": 29,
   "metadata": {},
   "outputs": [
    {
     "name": "stdout",
     "output_type": "stream",
     "text": [
      "Transaction Hash: 0x07e839220468dfc4b1ad86b9bf48ac897ca0d7c585d26229ba4849da4b4d326b\n"
     ]
    }
   ],
   "source": [
    "#Now, Making Transaction from \"Gas mask respirator\" at index 1 at AntiAerosol Manufacturer splitting it into \"Gas mask filter\" at index 2 and \"Body of the respirator\" at index 3 at AntiAerosol Manufacturer \n",
    "_ = Company_AntiAerosol_Manufacturer.functions.safeTransferFrom(AntiAerosol_Manufacturer,registerTokenSet_tokenAddress,1,1,b'0x0').transact({'from': AntiAerosol_Manufacturer})\n",
    "print(\"Transaction Hash:\",_.hex())"
   ]
  },
  {
   "cell_type": "code",
   "execution_count": 30,
   "metadata": {},
   "outputs": [
    {
     "name": "stdout",
     "output_type": "stream",
     "text": [
      "Transaction Hash: 0x53c28bcea627bb85235060f916fd02fc549514d4020ba5206d633f3277cfdccf\n"
     ]
    }
   ],
   "source": [
    "#Creating Token of \"Gas mask filter\" at Filter Manufacturer at index 3\n",
    "_ = Company_Filter_Manufacturer.functions.create(1,\"Gas mask filter\").transact({'from': Filter_Manufacturer})\n",
    "print(\"Transaction Hash:\", _.hex())"
   ]
  },
  {
   "cell_type": "code",
   "execution_count": 31,
   "metadata": {
    "scrolled": true
   },
   "outputs": [
    {
     "name": "stdout",
     "output_type": "stream",
     "text": [
      "\"Gas mask filter_3\" tokenAddress: 0x9a900c3aE5FC8193ed1C0c245a3986750e9944DF\n"
     ]
    }
   ],
   "source": [
    "#Getting \"Gas mask filter\" Address at index 3\n",
    "Gas_mask_filter_tokenAddress_3 = Company_Filter_Manufacturer.functions.tokenAddress(3).call()\n",
    "print('\"Gas mask filter_3\" tokenAddress:',Gas_mask_filter_tokenAddress_3)"
   ]
  },
  {
   "cell_type": "code",
   "execution_count": 32,
   "metadata": {},
   "outputs": [
    {
     "name": "stdout",
     "output_type": "stream",
     "text": [
      "Transaction Hash: 0x1904f0b8fd8a5819c02e581ccec96b59313d7b337cf8773d4af4a52c6769e0fe\n"
     ]
    }
   ],
   "source": [
    "#Making Transaction from \"Gas mask filter\" at index 2 at AntiAerosol Manufacturer to \"Gas mask filter\" at Filter Manufacturer\n",
    "_ = Company_AntiAerosol_Manufacturer.functions.safeTransferFrom(AntiAerosol_Manufacturer,Gas_mask_filter_tokenAddress_3,2,1,b'0x0').transact({'from': AntiAerosol_Manufacturer})\n",
    "print(\"Transaction Hash:\",_.hex())"
   ]
  },
  {
   "cell_type": "code",
   "execution_count": null,
   "metadata": {},
   "outputs": [],
   "source": []
  },
  {
   "cell_type": "code",
   "execution_count": null,
   "metadata": {},
   "outputs": [],
   "source": []
  },
  {
   "cell_type": "code",
   "execution_count": 33,
   "metadata": {},
   "outputs": [
    {
     "name": "stdout",
     "output_type": "stream",
     "text": [
      "Transaction Hash: 0xd1c2463d6f338189883e352e9b8d4e42e130f91478cf837881b277926cab307f\n"
     ]
    }
   ],
   "source": [
    "#Creating Token of \"Anti-aerosol material\" at Filter Manufacturer at index 4\n",
    "_ = Company_Filter_Manufacturer.functions.create(1,\"Anti-aerosol material\").transact({'from': Filter_Manufacturer})\n",
    "print(\"Transaction Hash:\", _.hex())"
   ]
  },
  {
   "cell_type": "code",
   "execution_count": 34,
   "metadata": {},
   "outputs": [
    {
     "name": "stdout",
     "output_type": "stream",
     "text": [
      "Transaction Hash: 0xa05754e15b1e0fb5b11147e99b35e10ce0c1eddce12773cc62e04ce3dcb71875\n"
     ]
    }
   ],
   "source": [
    "#Creating Token of \"Anti-aerosol filter\" at Filter Manufacturer at index 5\n",
    "_ = Company_Filter_Manufacturer.functions.create(1,\"Anti-aerosol filter\").transact({'from': Filter_Manufacturer})\n",
    "print(\"Transaction Hash:\", _.hex())"
   ]
  },
  {
   "cell_type": "code",
   "execution_count": 35,
   "metadata": {},
   "outputs": [
    {
     "name": "stdout",
     "output_type": "stream",
     "text": [
      "\"Anti-aerosol material\" tokenAddress: 0x9a900c3Ae5fC8193eD1c0C245A3986750E9944e1\n"
     ]
    }
   ],
   "source": [
    "#Getting \"Anti-aerosol filter\" Address at index 5\n",
    "AntiAerosolMaterial_tokenAddress = Company_Filter_Manufacturer.functions.tokenAddress(5).call()\n",
    "print('\"Anti-aerosol material\" tokenAddress:',AntiAerosolMaterial_tokenAddress)"
   ]
  },
  {
   "cell_type": "code",
   "execution_count": 36,
   "metadata": {},
   "outputs": [
    {
     "name": "stdout",
     "output_type": "stream",
     "text": [
      "Transaction Hash: 0x3b88be7bbeea9a3925179970b942113411c2b130a6ab0e94edf8713ad144e93e\n"
     ]
    }
   ],
   "source": [
    "#Making Transaction from \"Anti-aerosol material\" at index 4 to \"Anti-Aerosol filter\" at index 5\n",
    "_ = Company_Filter_Manufacturer.functions.safeTransferFrom(Filter_Manufacturer,AntiAerosolMaterial_tokenAddress,4,1,b'0x0').transact({'from': Filter_Manufacturer})\n",
    "print(\"Transaction Hash:\",_.hex())"
   ]
  },
  {
   "cell_type": "code",
   "execution_count": null,
   "metadata": {},
   "outputs": [],
   "source": []
  },
  {
   "cell_type": "code",
   "execution_count": null,
   "metadata": {},
   "outputs": [],
   "source": []
  },
  {
   "cell_type": "code",
   "execution_count": null,
   "metadata": {},
   "outputs": [],
   "source": []
  },
  {
   "cell_type": "code",
   "execution_count": null,
   "metadata": {},
   "outputs": [],
   "source": []
  },
  {
   "cell_type": "code",
   "execution_count": null,
   "metadata": {},
   "outputs": [],
   "source": []
  },
  {
   "cell_type": "code",
   "execution_count": 37,
   "metadata": {},
   "outputs": [
    {
     "name": "stdout",
     "output_type": "stream",
     "text": [
      "Transaction Hash: 0x8f932f35412c78a4240cd9913bfc9e299c77b57a737225f283c2ff35b550c001\n"
     ]
    }
   ],
   "source": [
    "#Creating Token of \"Anti-Aerosol filter\" at AntiAerosol Manufacturer at index 4\n",
    "_ = Company_AntiAerosol_Manufacturer.functions.create(1,\"Anti-Aerosol filter\").transact({'from': AntiAerosol_Manufacturer})\n",
    "print(\"Transaction Hash:\", _.hex())"
   ]
  },
  {
   "cell_type": "code",
   "execution_count": 38,
   "metadata": {},
   "outputs": [
    {
     "name": "stdout",
     "output_type": "stream",
     "text": [
      "\"Anti-aerosol material\" tokenAddress: 0xb60829DE293bb8ea63beBEb2F266F3Fed5e226CC\n"
     ]
    }
   ],
   "source": [
    "#Getting \"Anti-aerosol filter\" Address at index 4\n",
    "AntiAerosolfilter_tokenAddress = Company_AntiAerosol_Manufacturer.functions.tokenAddress(4).call()\n",
    "print('\"Anti-aerosol material\" tokenAddress:',AntiAerosolfilter_tokenAddress)"
   ]
  },
  {
   "cell_type": "code",
   "execution_count": 39,
   "metadata": {},
   "outputs": [
    {
     "name": "stdout",
     "output_type": "stream",
     "text": [
      "Transaction Hash: 0x32440740a55b2d20e4a742df548509f475130216583f0f35a9912f2e7eb423d3\n"
     ]
    }
   ],
   "source": [
    "#Making Transaction from \"Anti-aerosol filter\" at Filter Manufacturer to \"Anti-Aerosol filter\" at AntiAerosol Manufacturer\n",
    "_ = Company_Filter_Manufacturer.functions.safeTransferFrom(Filter_Manufacturer,AntiAerosolfilter_tokenAddress,5,1,b'0x0').transact({'from': Filter_Manufacturer})\n",
    "print(\"Transaction Hash:\",_.hex())"
   ]
  },
  {
   "cell_type": "code",
   "execution_count": null,
   "metadata": {},
   "outputs": [],
   "source": []
  },
  {
   "cell_type": "code",
   "execution_count": 40,
   "metadata": {},
   "outputs": [
    {
     "name": "stdout",
     "output_type": "stream",
     "text": [
      "Transaction Hash: 0x36ec3fb03e0394e1b90308fcb8124ae7f1f8989ffbfc5ac98aa277434dd9d3c8\n"
     ]
    }
   ],
   "source": [
    "#Creating Token of \"Anti-Aerosol Respirator\" at AntiAerosol Manufacturer at index 5\n",
    "_ = Company_AntiAerosol_Manufacturer.functions.create(1,\"Anti-Aerosol Respirator\").transact({'from': AntiAerosol_Manufacturer})\n",
    "print(\"Transaction Hash:\", _.hex())"
   ]
  },
  {
   "cell_type": "code",
   "execution_count": 41,
   "metadata": {},
   "outputs": [
    {
     "name": "stdout",
     "output_type": "stream",
     "text": [
      "\"Anti-aerosol material\" tokenAddress: 0xB60829DE293bB8EA63BeBeb2f266F3FeD5E226cd\n"
     ]
    }
   ],
   "source": [
    "#Getting \"Anti-aerosol filter\" Address at index 5\n",
    "AntiAerosolRespirator_tokenAddress = Company_AntiAerosol_Manufacturer.functions.tokenAddress(5).call()\n",
    "print('\"Anti-aerosol material\" tokenAddress:',AntiAerosolRespirator_tokenAddress)"
   ]
  },
  {
   "cell_type": "code",
   "execution_count": 42,
   "metadata": {
    "scrolled": true
   },
   "outputs": [
    {
     "name": "stdout",
     "output_type": "stream",
     "text": [
      "Transaction Hash: 0x1fb1f8e54264d6382bc5ba07d05577aaeab91d91adb34a0432ebe62da0c71ce7\n"
     ]
    }
   ],
   "source": [
    "#Making Transaction from \"Body of the respirator\" at AntiAerosol Manufacturer to \"Anti-Aerosol Respirator\" at AntiAerosol Manufacturer\n",
    "_ = Company_AntiAerosol_Manufacturer.functions.safeTransferFrom(AntiAerosol_Manufacturer,AntiAerosolRespirator_tokenAddress,3,1,b'0x0').transact({'from': AntiAerosol_Manufacturer})\n",
    "print(\"Transaction Hash:\",_.hex())"
   ]
  },
  {
   "cell_type": "code",
   "execution_count": 43,
   "metadata": {},
   "outputs": [
    {
     "name": "stdout",
     "output_type": "stream",
     "text": [
      "Transaction Hash: 0x822901a842ca163738e9a5ffbfde986f805d18d71053a6b3bf3719286d78cffb\n"
     ]
    }
   ],
   "source": [
    "#Making Transaction from \"Anti-aerosol filter\" at AntiAerosol Manufacturer to \"Anti-Aerosol Respirator\" at AntiAerosol Manufacturer\n",
    "_ = Company_AntiAerosol_Manufacturer.functions.safeTransferFrom(AntiAerosol_Manufacturer,AntiAerosolRespirator_tokenAddress,4,1,b'0x0').transact({'from': AntiAerosol_Manufacturer})\n",
    "print(\"Transaction Hash:\",_.hex())"
   ]
  },
  {
   "cell_type": "code",
   "execution_count": null,
   "metadata": {},
   "outputs": [],
   "source": []
  },
  {
   "cell_type": "code",
   "execution_count": 44,
   "metadata": {},
   "outputs": [],
   "source": [
    "#Our Product is ready, Now, we will sell it to Retailer at address: 0x7B53833Faf74f2306F2a8C8Ee4Ef10FD58A23363\n",
    "Retailer = '0x7B53833Faf74f2306F2a8C8Ee4Ef10FD58A23363'"
   ]
  },
  {
   "cell_type": "code",
   "execution_count": 45,
   "metadata": {},
   "outputs": [
    {
     "name": "stdout",
     "output_type": "stream",
     "text": [
      "Transaction Hash: 0x890f0f547c10f94016dd40fe79033292aa26868ce691e42a06aa552a3ac24ecd\n"
     ]
    }
   ],
   "source": [
    "#Sending from Factory \"AntiAerosol Manufacturer\" to Retail Shop \"Retailer\"\n",
    "#Here no need to create \"Token\" we can directly send to Retailer.\n",
    "_ = Company_AntiAerosol_Manufacturer.functions.safeTransferFrom(AntiAerosol_Manufacturer,Retailer,5,1,b'0x0').transact({'from': AntiAerosol_Manufacturer})\n",
    "print(\"Transaction Hash:\",_.hex())"
   ]
  },
  {
   "cell_type": "code",
   "execution_count": 46,
   "metadata": {},
   "outputs": [
    {
     "name": "stdout",
     "output_type": "stream",
     "text": [
      "Transaction Hash: 0x63f771ba6853f06d28d7f2ab003ea328085ea8e0ee712b915ff8db6641dce478\n"
     ]
    }
   ],
   "source": [
    "#Buyer's Address: 0xbaFD275d55bB0501ceeD2466D79AbF3a43BbF9d7\n",
    "Buyer = '0xbaFD275d55bB0501ceeD2466D79AbF3a43BbF9d7'\n",
    "_ = Company_AntiAerosol_Manufacturer.functions.safeTransferFrom(Retailer,Buyer,5,1,b'0x0').transact({'from': Retailer})\n",
    "print(\"Transaction Hash:\",_.hex())"
   ]
  },
  {
   "cell_type": "code",
   "execution_count": 47,
   "metadata": {},
   "outputs": [
    {
     "name": "stdout",
     "output_type": "stream",
     "text": [
      "Transaction Hash: 0x70d21c8b363afe4ba64d7e13c3db767d7af901cf48526d2c2779ae8acc01971e\n"
     ]
    }
   ],
   "source": [
    "#2nd Hand Buyer's Address: 0x6Aa0E43A66A039b31B5888BCF4449b11bF296BCc\n",
    "second_buyer = '0x6Aa0E43A66A039b31B5888BCF4449b11bF296BCc'\n",
    "_ = Company_AntiAerosol_Manufacturer.functions.safeTransferFrom(Buyer,second_buyer,5,1,b'0x0').transact({'from': Buyer})\n",
    "print(\"Transaction Hash:\",_.hex())"
   ]
  },
  {
   "cell_type": "code",
   "execution_count": null,
   "metadata": {},
   "outputs": [],
   "source": []
  }
 ],
 "metadata": {
  "kernelspec": {
   "display_name": "Python 3",
   "language": "python",
   "name": "python3"
  },
  "language_info": {
   "codemirror_mode": {
    "name": "ipython",
    "version": 3
   },
   "file_extension": ".py",
   "mimetype": "text/x-python",
   "name": "python",
   "nbconvert_exporter": "python",
   "pygments_lexer": "ipython3",
   "version": "3.7.6"
  }
 },
 "nbformat": 4,
 "nbformat_minor": 4
}
